{
 "cells": [
  {
   "cell_type": "markdown",
   "id": "a0bd9827",
   "metadata": {},
   "source": [
    "# Trabalho Cálculo Numérico em Computadores 2024.1"
   ]
  },
  {
   "cell_type": "markdown",
   "id": "35248e7f",
   "metadata": {},
   "source": [
    "# Tarefa 1\n",
    "\n",
    "Implementar um método de Newton que utilize o método de Horner para avaliar os polinômios p(x) e p'(x). Use o polinômio p(x)= x^4 - 3x^3 + x^2 + x + 1 para testar o algoritmo, aproximando as duas raízes reais. Para isolar as raízes reais, faça um gráfico de p(x) e faça uma escolha para xo."
   ]
  },
  {
   "cell_type": "code",
   "execution_count": 1,
   "id": "8565da99",
   "metadata": {},
   "outputs": [],
   "source": [
    "import matplotlib.pyplot as plt\n",
    "from pylab import arange"
   ]
  },
  {
   "cell_type": "code",
   "execution_count": 2,
   "id": "b9c7f5f3",
   "metadata": {},
   "outputs": [],
   "source": [
    "# Criando a função utilizada para plotar o gráfico\n",
    "def p_graph(x):\n",
    "    return (x**4.0) + ((-3.0)*(x**3.0)) + (x**2.0) + x + 1.0"
   ]
  },
  {
   "cell_type": "markdown",
   "id": "9afdb19f",
   "metadata": {},
   "source": [
    "Com isso agora iremos plotar um gráfico de p(x) para definirmos manualmente um x0 para a método de newton"
   ]
  },
  {
   "cell_type": "code",
   "execution_count": 3,
   "id": "18d40fb6",
   "metadata": {},
   "outputs": [
    {
     "data": {
      "text/plain": [
       "<matplotlib.lines.Line2D at 0x1e56f576d90>"
      ]
     },
     "execution_count": 3,
     "metadata": {},
     "output_type": "execute_result"
    },
    {
     "data": {
      "image/png": "[encoded data removed]",
      "text/plain": [
       "<Figure size 640x480 with 1 Axes>"
      ]
     },
     "metadata": {},
     "output_type": "display_data"
    }
   ],
   "source": [
    "# Definindo Intervalo para o gráfico inicial\n",
    "x_graph= arange(-1,3.1 + 0.1, 0.1)\n",
    "y_graph = p_graph(x_graph)\n",
    "# Plotando o Grafico de p(x)\n",
    "fig, ax = plt.subplots()\n",
    "ax.plot(x_graph,y_graph, label=\"p(x)\")\n",
    "ax.grid(True)\n",
    "ax.axhline(y=0, color='k')"
   ]
  },
  {
   "cell_type": "markdown",
   "id": "77c8581d",
   "metadata": {},
   "source": [
    "Observamos pelo comportamento do gráfico que temos duas raízes, sendo bastante próximas de 1.5 e 2.5"
   ]
  },
  {
   "cell_type": "markdown",
   "id": "b088e629",
   "metadata": {},
   "source": [
    "Aplicamos então o método de Newton nestes dois pontos a fim de obtermos as aproximações destas raízes"
   ]
  },
  {
   "cell_type": "code",
   "execution_count": 4,
   "id": "73239b87",
   "metadata": {},
   "outputs": [],
   "source": [
    "def newton_method(a:list, x:float, e:int, max_iter=50):\n",
    "    \"\"\" Função do Método de Newton:\n",
    "        a - list: lista de coeficientes [a0, a1, ..., an]\n",
    "        x - float: valor inicial de x para a aproximação\n",
    "        e - int: valor do expoente de epsilon (epsilon = 10**e)\n",
    "    \"\"\"\n",
    "    # Pegando o grau do polinomio\n",
    "    n = len(a)-1\n",
    "    \n",
    "    # Definindo o valor de epsilon\n",
    "    epsilon = 10.0**e\n",
    "    \n",
    "    # Print de tabela\n",
    "    print(\"k\\t\\tx\\t\\tp(x)\")\n",
    "    \n",
    "    \n",
    "    # Iteração\n",
    "    for k in range(0,max_iter+1):\n",
    "        \n",
    "        # Realizando o método de Horner para polinômios\n",
    "        b = a[n]\n",
    "        c = b\n",
    "        # b -> resultado do polinômio; \n",
    "        # c -> resultado da derivada do polinômio;\n",
    "        for j in range(n-1, 0, -1):\n",
    "            b = a[j] + b*x\n",
    "            c = b + c*x\n",
    "            \n",
    "        b = a[0] + b*x\n",
    "        \n",
    "        # Verificando epsilon\n",
    "        if abs(b) <= epsilon:\n",
    "            print(\"Aproximação menor que epsilon!\")\n",
    "            print(\"\\nx\\t\\tp(x)\")\n",
    "            print(\"%e\\t%e\" %(x, b))\n",
    "            return x\n",
    "        \n",
    "        # Realiza o método de Newton\n",
    "        x = x - b/c\n",
    "        \n",
    "        # Printando os valores calulados na tabela\n",
    "        print(\"%d\\t\\t%e\\t%e\" %(k, x, b))\n",
    "        \n",
    "    print(\"Iterações máxima atingidas\")\n",
    "    return x"
   ]
  },
  {
   "cell_type": "markdown",
   "id": "6e74c5f6",
   "metadata": {},
   "source": [
    "Definimos neste caso, x0 como 1.5"
   ]
  },
  {
   "cell_type": "code",
   "execution_count": 5,
   "id": "fa522018",
   "metadata": {},
   "outputs": [
    {
     "name": "stdout",
     "output_type": "stream",
     "text": [
      "k\t\tx\t\tp(x)\n",
      "0\t\t1.386364e+00\t-3.125000e-01\n",
      "1\t\t1.389390e+00\t8.677739e-03\n",
      "2\t\t1.389391e+00\t5.723007e-07\n",
      "Aproximação menor que epsilon!\n",
      "\n",
      "x\t\tp(x)\n",
      "1.389391e+00\t2.886580e-15\n"
     ]
    }
   ],
   "source": [
    "a = [1, 1, 1, -3, 1]\n",
    "x = 1.5\n",
    "e = -14\n",
    "x = newton_method(a, x, e)"
   ]
  },
  {
   "cell_type": "markdown",
   "id": "a30aed6d",
   "metadata": {},
   "source": [
    "Definimos neste caso, x0 como 2.5"
   ]
  },
  {
   "cell_type": "code",
   "execution_count": 6,
   "id": "904c50df",
   "metadata": {
    "scrolled": false
   },
   "outputs": [
    {
     "name": "stdout",
     "output_type": "stream",
     "text": [
      "k\t\tx\t\tp(x)\n",
      "0\t\t2.341837e+00\t1.937500e+00\n",
      "1\t\t2.293361e+00\t3.731798e-01\n",
      "2\t\t2.288833e+00\t2.942626e-02\n",
      "3\t\t2.288795e+00\t2.437381e-04\n",
      "4\t\t2.288795e+00\t1.720841e-08\n",
      "Aproximação menor que epsilon!\n",
      "\n",
      "x\t\tp(x)\n",
      "2.288795e+00\t1.110223e-15\n"
     ]
    }
   ],
   "source": [
    "a = [1, 1, 1, -3, 1]\n",
    "x = 2.5\n",
    "e = -14\n",
    "x = newton_method(a, x, e)"
   ]
  },
  {
   "cell_type": "markdown",
   "id": "78171831",
   "metadata": {},
   "source": [
    "Assumimos então que as raízes aproximadas do polinômio p(x) são: x1 = 1.389390683334933 e x2 = 2.2887949921884863"
   ]
  },
  {
   "cell_type": "markdown",
   "id": "641b2f67",
   "metadata": {},
   "source": [
    "# Tarefa 2\n",
    "Implementar o método de Muller. Utilizando o polinômio \n",
    "p(x) = x^4 - 3x^3 + x^2 + x + 1\n",
    "para testar o algoritmo. Aproxime as raízes reais, com base nos intervalos obtidos anteriormente. Aproxima uma das raízes complexas usando x0 = -0.5, x1 = 0, x2 = 0.5."
   ]
  },
  {
   "cell_type": "markdown",
   "id": "312e4475",
   "metadata": {},
   "source": [
    "Criamos então duas funções, uma para a obtenção da raíz complexa pertencente a R (conjunto dos Reais) e outra pertencente a I (conjunto dos Imaginarios)."
   ]
  },
  {
   "cell_type": "code",
   "execution_count": 10,
   "id": "3daf5a18",
   "metadata": {},
   "outputs": [],
   "source": [
    "from math import sqrt\n",
    "from sympy import Symbol\n",
    "from cmath import sqrt\n",
    "\n",
    "# Definindo o polinômio/função\n",
    "x = Symbol('x')\n",
    "f = (x**4) + ((-3)*(x**3)) + (x**2) + x + 1\n",
    "\n",
    "\n",
    "\n",
    "def metodo_muller_n_imaginario(x0:float, x1:float, x2:float, e:int, max_iter:int=50):\n",
    "    \"\"\" Realiza o método de Muller em um polinômio/função\n",
    "        x0 - float = x0\n",
    "        x1 - float = x1\n",
    "        x2 - float = x2\n",
    "        e - int = valor do expoente de epsilon (epsilon = 10**e)\n",
    "        max_iter - int = valor máximo de iterações\n",
    "    \"\"\"\n",
    "    # Printando cabeçalho da tabela\n",
    "    print(\"i\\t\\tx3\")\n",
    "    epsilon = 10**e\n",
    "        \n",
    "    for i in range(max_iter):\n",
    "        f0 = (f.subs(x, x0) - f.subs(x, x2))/(x0 - x2)\n",
    "        f1 = (f.subs(x, x1) - f.subs(x, x2))/(x1 - x2)\n",
    "\n",
    "        a = (f0 - f1)/(x0 - x1)\n",
    "        b = f0*((x2 - x1)/(x0 - x1)) + f1*((x0 - x2)/(x0 - x1))\n",
    "        c = f.subs(x, x2)\n",
    "\n",
    "        x3 = complex(x2 + (-2*c) / (b + (b/(abs(b)))*sqrt(((b**2)-(4*a*c)))))\n",
    "        \n",
    "        # Printando valores na tabela\n",
    "        print(f\"{i}\\t\\t{x3}\")\n",
    "        \n",
    "        x0 = x1\n",
    "        x1 = x2\n",
    "        x2 = x3\n",
    "        \n",
    "        if abs(complex(f.subs(x, x3))) < epsilon:\n",
    "            print(\"Aproximação menor que epsilon!\")\n",
    "            print(f\"\\nx3 = {x3}\")\n",
    "            break\n",
    "\n",
    "        if i == max_iter - 1:\n",
    "            print('limite de iteração atingido')\n",
    "            break\n",
    "\n",
    "\n",
    "# Função dos raizes Reais\n",
    "def metodo_muller_n_real(x0:float, x1:float, x2:float, e:int, max_iter:int=50):\n",
    "    \"\"\" Realiza o método de Muller em um polinômio/função\n",
    "        x0 - float = x0\n",
    "        x1 - float = x1\n",
    "        x2 - float = x2\n",
    "        e - int = valor do expoente de epsilon (epsilon = 10**e)\n",
    "        max_iter - int = valor máximo de iterações\n",
    "    \"\"\"\n",
    "    # Printando cabeçalho da tabela\n",
    "    print(\"i\\t\\tx3\")\n",
    "    epsilon = 10**e\n",
    "\n",
    "    for i in range(max_iter):\n",
    "        # Realizando o Método de Muller\n",
    "        f0 = (f.subs(x, x0) - f.subs(x, x2))/(x0 - x2)\n",
    "        f1 = (f.subs(x, x1) - f.subs(x, x2))/(x1 - x2)\n",
    "\n",
    "        a = (f0 - f1)/(x0 - x1)\n",
    "        b = f0*((x2 - x1)/(x0 - x1)) + f1*((x0 - x2)/(x0 - x1))\n",
    "        c = f.subs(x, x2)\n",
    "\n",
    "        x3 = x2 + (-2*c)/(b - sqrt(abs((b**2)-(4*a*c))))\n",
    "\n",
    "        # Printando valores na tabela\n",
    "        print(\"%d\\t\\t%e\" %(i, x3))\n",
    "\n",
    "        x0 = x1\n",
    "        x1 = x2\n",
    "        x2 = x3\n",
    "    \n",
    "        # Verificando se menor que epsilon\n",
    "        if abs(f.subs(x, x3)) < epsilon:\n",
    "            print(\"Aproximação menor que epsilon!\")\n",
    "            print(f\"\\nx3 = {x3}\")\n",
    "            break\n",
    "\n",
    "        # Maximo de iterações\n",
    "        if i == max_iter - 1:\n",
    "            print('Limite de iteração atingido')\n",
    "            break"
   ]
  },
  {
   "cell_type": "markdown",
   "id": "9cb3e99a",
   "metadata": {},
   "source": [
    "Agora aplicamos o método com x0 = -0.5, x1 = 0, x2 = 0.5, buscando inicialmente uma raíz real"
   ]
  },
  {
   "cell_type": "code",
   "execution_count": 11,
   "id": "1d930b12",
   "metadata": {
    "scrolled": true
   },
   "outputs": [
    {
     "name": "stdout",
     "output_type": "stream",
     "text": [
      "i\t\tx3\n",
      "0\t\t4.481726e+00\n",
      "1\t\t-1.146013e-01\n",
      "2\t\t1.184349e-01\n",
      "3\t\t1.039799e+00\n",
      "4\t\t1.570827e+00\n",
      "5\t\t1.419401e+00\n",
      "6\t\t1.387687e+00\n",
      "7\t\t1.389382e+00\n",
      "8\t\t1.389391e+00\n",
      "9\t\t1.389391e+00\n",
      "Aproximação menor que epsilon!\n",
      "\n",
      "x3 = 1.38939068333493\n"
     ]
    }
   ],
   "source": [
    "x0 = -0.5\n",
    "x1 = 0.0\n",
    "x2 = 0.5\n",
    "e1 = -14\n",
    "metodo_muller_n_real(x0, x1, x2, e1)"
   ]
  },
  {
   "cell_type": "markdown",
   "id": "ac763a3f",
   "metadata": {},
   "source": [
    "Agora fazemos o método buscando uma raíz complexa"
   ]
  },
  {
   "cell_type": "code",
   "execution_count": 14,
   "id": "091fb015",
   "metadata": {},
   "outputs": [
    {
     "name": "stdout",
     "output_type": "stream",
     "text": [
      "i\t\tx3\n",
      "0\t\t(-0.10000000000000009+0.8888194417315589j)\n",
      "1\t\t(-0.3022174694574372+0.23685182024043608j)\n",
      "2\t\t(-0.28864432744375107+0.4136959941926853j)\n",
      "3\t\t(-0.3273677898530688+0.47380243390754506j)\n",
      "4\t\t(-0.3561227945953467+0.45269684754851436j)\n",
      "5\t\t(-0.3430148874290938+0.4356459071915529j)\n",
      "6\t\t(-0.3317798457848226+0.4438308513932646j)\n",
      "7\t\t(-0.337284915637814+0.4513606624209448j)\n",
      "8\t\t(-0.3421232776814748+0.44775491181198684j)\n",
      "9\t\t(-0.33982197201432274+0.4446669244054706j)\n",
      "10\t\t(-0.3378151653460123+0.44614971902341904j)\n",
      "11\t\t(-0.33878179450832874+0.4474576069902385j)\n",
      "12\t\t(-0.33962780056261355+0.4468301507846253j)\n",
      "13\t\t(-0.3392224402815952+0.44628356431336247j)\n",
      "14\t\t(-0.33886818311251443+0.4465458989756853j)\n",
      "15\t\t(-0.33903830015578074+0.44677561730796195j)\n",
      "Aproximação menor que epsilon!\n",
      "\n",
      "x3 = (-0.33903830015578074+0.44677561730796195j)\n"
     ]
    }
   ],
   "source": [
    "metodo_muller_n_imaginario(x0, x1, x2, -3)"
   ]
  },
  {
   "cell_type": "markdown",
   "id": "896a9a52",
   "metadata": {},
   "source": [
    "Temos então que uma das raizes complexas de p(x) é x1 = (-0.33903830015578074+0.44677561730796195j)"
   ]
  }
 ],
 "metadata": {
  "kernelspec": {
   "display_name": "Python 3 (ipykernel)",
   "language": "python",
   "name": "python3"
  },
  "language_info": {
   "codemirror_mode": {
    "name": "ipython",
    "version": 3
   },
   "file_extension": ".py",
   "mimetype": "text/x-python",
   "name": "python",
   "nbconvert_exporter": "python",
   "pygments_lexer": "ipython3",
   "version": "3.11.5"
  }
 },
 "nbformat": 4,
 "nbformat_minor": 5
}
